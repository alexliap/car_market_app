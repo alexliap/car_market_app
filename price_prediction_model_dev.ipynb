{
 "cells": [
  {
   "cell_type": "code",
   "execution_count": 1,
   "id": "fcc8a5d6-b333-4620-a2d4-b17dd867e345",
   "metadata": {},
   "outputs": [],
   "source": [
    "import pandas as pd\n",
    "import numpy as np\n",
    "from sklearn.tree import DecisionTreeRegressor\n",
    "from sklearn.ensemble import BaggingRegressor\n",
    "from sklearn.metrics import mean_absolute_error, mean_squared_error\n",
    "import matplotlib.pyplot as plt\n",
    "from sklearn.model_selection import cross_val_score\n",
    "import scipy.stats as st\n",
    "import polars as pl\n",
    "import polars.selectors as cs\n",
    "from colored import Fore, Style\n",
    "import pickle\n",
    "from sklearn.preprocessing import LabelEncoder"
   ]
  },
  {
   "cell_type": "code",
   "execution_count": 37,
   "id": "24bce6f3-5855-45d5-88a3-ef3f636336e9",
   "metadata": {},
   "outputs": [],
   "source": [
    "data = pd.read_csv(\"PricePredictionData/data.csv\")"
   ]
  },
  {
   "cell_type": "code",
   "execution_count": 151,
   "id": "2ed7cf19-048e-4a43-a586-3d2cfe470fbd",
   "metadata": {},
   "outputs": [
    {
     "data": {
      "image/png": "[encoded data removed]",
      "text/plain": [
       "<Figure size 640x480 with 1 Axes>"
      ]
     },
     "metadata": {},
     "output_type": "display_data"
    }
   ],
   "source": [
    "data[\"priceUnformatted\"].hist(bins=40);"
   ]
  },
  {
   "cell_type": "markdown",
   "id": "1a096631-6014-474a-a262-ce3c9d6d1d3c",
   "metadata": {},
   "source": [
    "### Transform categorical columns to numrical and save encoders to use for the app"
   ]
  },
  {
   "cell_type": "code",
   "execution_count": 152,
   "id": "7fc3af40-863e-4995-b72c-7a7bb0c090c8",
   "metadata": {},
   "outputs": [],
   "source": [
    "label_transformers = {}\n",
    "for col in data.columns:\n",
    "    if data[col].dtype == \"O\":\n",
    "        label_transformers[col + \"_transformer\"] = LabelEncoder()\n",
    "        data[col] = label_transformers[col + \"_transformer\"].fit_transform(data[col])\n",
    "        pickle.dump(\n",
    "            label_transformers[col + \"_transformer\"],\n",
    "            open(\"app/Models/label_encoders/\" + col + \"_transformer.pkl\", \"wb\"),\n",
    "        )"
   ]
  },
  {
   "cell_type": "markdown",
   "id": "5b086bd7-4e57-4f2a-bc66-b5e771e55655",
   "metadata": {},
   "source": [
    "Let's get a first taste on a Bagging ensemble regressor performance. We know a priori it's going to be bad bacause of the majority of cars being priced 20.000 - 60.000 dollars."
   ]
  },
  {
   "cell_type": "code",
   "execution_count": 153,
   "id": "0f960ed2-63ca-452a-a5d1-32e3c69a5579",
   "metadata": {},
   "outputs": [
    {
     "name": "stdout",
     "output_type": "stream",
     "text": [
      "(6332.369873134478, 7805.510543042953)\n"
     ]
    }
   ],
   "source": [
    "x, y = data.drop(\"priceUnformatted\", axis=1), data[\"priceUnformatted\"]\n",
    "\n",
    "bg_reg = BaggingRegressor(\n",
    "    estimator=DecisionTreeRegressor(\n",
    "        criterion=\"friedman_mse\",\n",
    "        splitter=\"best\",\n",
    "        min_samples_leaf=20,\n",
    "        min_samples_split=40,\n",
    "    ),\n",
    "    n_estimators=20,\n",
    "    max_samples=0.4,\n",
    "    max_features=0.4,\n",
    "    bootstrap=False,\n",
    ")\n",
    "\n",
    "bg_reg_scores = np.sqrt(\n",
    "    -cross_val_score(bg_reg, x, y, cv=20, scoring=\"neg_mean_squared_error\")\n",
    ")\n",
    "\n",
    "print(\n",
    "    st.t.interval(\n",
    "        confidence=0.95,\n",
    "        df=len(bg_reg_scores) - 1,\n",
    "        loc=np.mean(bg_reg_scores),\n",
    "        scale=st.sem(bg_reg_scores),\n",
    "    )\n",
    ")"
   ]
  },
  {
   "cell_type": "markdown",
   "id": "13d4a7df-cd4b-4bc0-8fb9-a17e306f623d",
   "metadata": {},
   "source": [
    "Despite the 'ok' confidence interval of the model, we are suspicious of what is happening at the ends of the distribution we saw above.\n",
    "So we are splitting the dataset into 3 (sub 20k, 20k-60k, above 60k) parts and checking the error there."
   ]
  },
  {
   "cell_type": "code",
   "execution_count": 154,
   "id": "6236b503-f059-4cf0-a722-5a68b2c687d7",
   "metadata": {},
   "outputs": [
    {
     "name": "stdout",
     "output_type": "stream",
     "text": [
      "Number of cars sub 20.000 dollars: \u001b[38;5;2m2933\u001b[0m\n",
      "Number of cars between 20.000 - 60.000 dollars: \u001b[38;5;1m9096\u001b[0m\n",
      "Number of cars over 60.000 dollars: \u001b[38;5;4m1267\n"
     ]
    }
   ],
   "source": [
    "bg_reg.fit(x, y)\n",
    "\n",
    "split_points = [20000, 60000]\n",
    "first_bin = data[data[\"priceUnformatted\"] <= split_points[0]]\n",
    "print(\n",
    "    f\"Number of cars sub 20.000 dollars: {Fore.green}{first_bin.shape[0]}{Style.reset}\"\n",
    ")\n",
    "\n",
    "sec_bin = data[\n",
    "    (data[\"priceUnformatted\"] > split_points[0])\n",
    "    & (data[\"priceUnformatted\"] <= split_points[1])\n",
    "]\n",
    "print(\n",
    "    f\"Number of cars between 20.000 - 60.000 dollars: {Fore.red}{sec_bin.shape[0]}{Style.reset}\"\n",
    ")\n",
    "\n",
    "third_bin = data[data[\"priceUnformatted\"] > split_points[1]]\n",
    "print(f\"Number of cars over 60.000 dollars: {Fore.blue}{third_bin.shape[0]}\")"
   ]
  },
  {
   "cell_type": "code",
   "execution_count": 155,
   "id": "5fcf5a4a-6815-4de2-a8f6-8eab9a1fb4c6",
   "metadata": {},
   "outputs": [
    {
     "data": {
      "text/plain": [
       "4979.1008631753175"
      ]
     },
     "execution_count": 155,
     "metadata": {},
     "output_type": "execute_result"
    }
   ],
   "source": [
    "# Price range <= 20_000\n",
    "mean_absolute_error(\n",
    "    bg_reg.predict(first_bin.drop(\"priceUnformatted\", axis=1)),\n",
    "    first_bin.priceUnformatted.values,\n",
    ")"
   ]
  },
  {
   "cell_type": "markdown",
   "id": "56afde37-f80a-4289-95e0-19e46df9ff09",
   "metadata": {},
   "source": [
    "MAE of 6041 for cars below 20.000 dollars is pretty bad. Consider the scenario were a car should be priced around 5k-6k dollars and my predictions is 10k or 0 dollars. It is just unacceptable.\n",
    "\n",
    "We are going to check distribution plots of true versus predicted prices. If the distributions are similar then the model's performance is\n",
    "good, if the distributions don't even overlap than the model is useless for the particular segment."
   ]
  },
  {
   "cell_type": "code",
   "execution_count": 156,
   "id": "40f69d37-dc46-4854-8e15-5344a9c299f2",
   "metadata": {},
   "outputs": [
    {
     "data": {
      "image/png": "[encoded data removed]",
      "text/plain": [
       "<Figure size 600x400 with 1 Axes>"
      ]
     },
     "metadata": {},
     "output_type": "display_data"
    }
   ],
   "source": [
    "plt.figure(figsize=(6, 4))\n",
    "plt.hist(first_bin.priceUnformatted.values, label=\"Target\", bins=15)\n",
    "plt.hist(\n",
    "    bg_reg.predict(first_bin.drop(\"priceUnformatted\", axis=1)),\n",
    "    label=\"Predicted\",\n",
    "    bins=15,\n",
    "    alpha=0.8,\n",
    ")\n",
    "plt.legend()\n",
    "plt.title(\"Sub 20.000 Segment\");"
   ]
  },
  {
   "cell_type": "markdown",
   "id": "0dfa40a8-055d-4357-aca9-bff3ad8d7f7a",
   "metadata": {},
   "source": [
    "As we predicted, the distributions do not seem similar at all, they even diverge from each other."
   ]
  },
  {
   "cell_type": "code",
   "execution_count": 157,
   "id": "8c32e929-7368-4820-86e7-464ec20c28e1",
   "metadata": {},
   "outputs": [
    {
     "data": {
      "text/plain": [
       "3841.6642624985"
      ]
     },
     "execution_count": 157,
     "metadata": {},
     "output_type": "execute_result"
    }
   ],
   "source": [
    "# Price range  20_000 - 60_000\n",
    "mean_absolute_error(\n",
    "    bg_reg.predict(sec_bin.drop(\"priceUnformatted\", axis=1)),\n",
    "    sec_bin.priceUnformatted.values,\n",
    ")"
   ]
  },
  {
   "cell_type": "markdown",
   "id": "73b1e2a8-eb75-4ee4-9066-bcaf97b0e98f",
   "metadata": {},
   "source": [
    "MAE of 4596 seems ok, but thats expected considering the majority of the dataset lies in that region. It can also be seen\n",
    "from the plot below that the two distributions overlap greatly."
   ]
  },
  {
   "cell_type": "code",
   "execution_count": 158,
   "id": "3eb6a872-8a66-41b0-b75e-66bd37fe84a5",
   "metadata": {},
   "outputs": [
    {
     "data": {
      "image/png": "[encoded data removed]",
      "text/plain": [
       "<Figure size 600x400 with 1 Axes>"
      ]
     },
     "metadata": {},
     "output_type": "display_data"
    }
   ],
   "source": [
    "plt.figure(figsize=(6, 4))\n",
    "plt.hist(sec_bin.priceUnformatted.values, label=\"Target\", bins=40)\n",
    "plt.hist(\n",
    "    bg_reg.predict(sec_bin.drop(\"priceUnformatted\", axis=1)),\n",
    "    label=\"Predicted\",\n",
    "    bins=40,\n",
    "    alpha=0.8,\n",
    ")\n",
    "plt.legend()\n",
    "plt.title(\"20.000 - 60.000 Segment\");"
   ]
  },
  {
   "cell_type": "code",
   "execution_count": 159,
   "id": "a7e2a8c6-02ee-4d1b-a8af-69566a3be3d1",
   "metadata": {},
   "outputs": [
    {
     "data": {
      "text/plain": [
       "15378.19087985614"
      ]
     },
     "execution_count": 159,
     "metadata": {},
     "output_type": "execute_result"
    }
   ],
   "source": [
    "# Price range > 60_000\n",
    "mean_absolute_error(\n",
    "    bg_reg.predict(third_bin.drop(\"priceUnformatted\", axis=1)),\n",
    "    third_bin.priceUnformatted.values,\n",
    ")"
   ]
  },
  {
   "cell_type": "markdown",
   "id": "a5a77f88-9e8f-451a-99d6-876e783a1683",
   "metadata": {},
   "source": [
    "Here we have the same scenario as in the 1st segment, where the error for the segment is pretty big and the two distributions seem to diverge from each other."
   ]
  },
  {
   "cell_type": "code",
   "execution_count": 160,
   "id": "b515d212-454f-4a41-adc2-3ca2fcfa29bf",
   "metadata": {},
   "outputs": [
    {
     "data": {
      "image/png": "[encoded data removed]",
      "text/plain": [
       "<Figure size 600x400 with 1 Axes>"
      ]
     },
     "metadata": {},
     "output_type": "display_data"
    }
   ],
   "source": [
    "plt.figure(figsize=(6, 4))\n",
    "plt.hist(third_bin.priceUnformatted.values, label=\"Target\", bins=15)\n",
    "plt.hist(\n",
    "    bg_reg.predict(third_bin.drop(\"priceUnformatted\", axis=1)),\n",
    "    label=\"Predicted\",\n",
    "    bins=15,\n",
    "    alpha=0.8,\n",
    ")\n",
    "plt.legend()\n",
    "plt.title(\"Over 60.000 Segment\");"
   ]
  },
  {
   "cell_type": "markdown",
   "id": "7f301ff7-9112-45b0-b802-409a46c362e2",
   "metadata": {},
   "source": [
    "It's clear that because of the majority of car prices in the dataset are in the range between 20k and 60k the model is not that accurate in the sub 20k and over 60k segments.\n",
    "\n",
    "So we will use 3 different models of the same algorithm to get a better performance."
   ]
  },
  {
   "cell_type": "code",
   "execution_count": 161,
   "id": "9daacb3a-33b4-48c6-ba03-6ed8d4025c4f",
   "metadata": {},
   "outputs": [
    {
     "name": "stdout",
     "output_type": "stream",
     "text": [
      "(1528.7687082435345, 1833.7992849311518)\n",
      "(3509.9722644724184, 4090.4889847209083)\n",
      "(6749.807921201471, 8927.821926643144)\n"
     ]
    }
   ],
   "source": [
    "reg_bin_1 = BaggingRegressor(\n",
    "    estimator=DecisionTreeRegressor(\n",
    "        criterion=\"friedman_mse\",\n",
    "        splitter=\"best\",\n",
    "        min_samples_leaf=15,\n",
    "        min_samples_split=30,\n",
    "    ),\n",
    "    n_estimators=10,\n",
    "    max_samples=0.4,\n",
    "    max_features=0.4,\n",
    "    bootstrap=False,\n",
    ")\n",
    "\n",
    "reg_bin_2 = BaggingRegressor(\n",
    "    estimator=DecisionTreeRegressor(\n",
    "        criterion=\"friedman_mse\",\n",
    "        splitter=\"best\",\n",
    "        min_samples_leaf=20,\n",
    "        min_samples_split=40,\n",
    "    ),\n",
    "    n_estimators=20,\n",
    "    max_samples=0.4,\n",
    "    max_features=0.4,\n",
    "    bootstrap=False,\n",
    ")\n",
    "\n",
    "reg_bin_3 = BaggingRegressor(\n",
    "    estimator=DecisionTreeRegressor(\n",
    "        criterion=\"friedman_mse\",\n",
    "        splitter=\"best\",\n",
    "        min_samples_leaf=15,\n",
    "        min_samples_split=30,\n",
    "    ),\n",
    "    n_estimators=20,\n",
    "    max_samples=0.2,\n",
    "    max_features=0.2,\n",
    "    bootstrap=False,\n",
    ")\n",
    "\n",
    "reg_bin_1_scores = -cross_val_score(\n",
    "    reg_bin_1,\n",
    "    first_bin.drop(\"priceUnformatted\", axis=1),\n",
    "    first_bin.priceUnformatted,\n",
    "    cv=5,\n",
    "    scoring=\"neg_mean_absolute_error\",\n",
    ")\n",
    "\n",
    "reg_bin_2_scores = -cross_val_score(\n",
    "    reg_bin_2,\n",
    "    sec_bin.drop(\"priceUnformatted\", axis=1),\n",
    "    sec_bin.priceUnformatted,\n",
    "    cv=10,\n",
    "    scoring=\"neg_mean_absolute_error\",\n",
    ")\n",
    "\n",
    "reg_bin_3_scores = -cross_val_score(\n",
    "    reg_bin_3,\n",
    "    third_bin.drop(\"priceUnformatted\", axis=1),\n",
    "    third_bin.priceUnformatted,\n",
    "    cv=4,\n",
    "    scoring=\"neg_mean_absolute_error\",\n",
    ")\n",
    "\n",
    "print(\n",
    "    st.t.interval(\n",
    "        confidence=0.95,\n",
    "        df=len(reg_bin_1_scores) - 1,\n",
    "        loc=np.mean(reg_bin_1_scores),\n",
    "        scale=st.sem(reg_bin_1_scores),\n",
    "    )\n",
    ")\n",
    "\n",
    "print(\n",
    "    st.t.interval(\n",
    "        confidence=0.95,\n",
    "        df=len(reg_bin_2_scores) - 1,\n",
    "        loc=np.mean(reg_bin_2_scores),\n",
    "        scale=st.sem(reg_bin_2_scores),\n",
    "    )\n",
    ")\n",
    "\n",
    "print(\n",
    "    st.t.interval(\n",
    "        confidence=0.95,\n",
    "        df=len(reg_bin_3_scores) - 1,\n",
    "        loc=np.mean(reg_bin_3_scores),\n",
    "        scale=st.sem(reg_bin_3_scores),\n",
    "    )\n",
    ")"
   ]
  },
  {
   "cell_type": "code",
   "execution_count": 162,
   "id": "bfdc47d3-f10a-4900-94ea-f269a6bda6c0",
   "metadata": {},
   "outputs": [],
   "source": [
    "reg_bin_1.fit(first_bin.drop(\"priceUnformatted\", axis=1), first_bin.priceUnformatted)\n",
    "reg_bin_2.fit(sec_bin.drop(\"priceUnformatted\", axis=1), sec_bin.priceUnformatted)\n",
    "reg_bin_3.fit(third_bin.drop(\"priceUnformatted\", axis=1), third_bin.priceUnformatted);"
   ]
  },
  {
   "cell_type": "code",
   "execution_count": 163,
   "id": "5cf7d600-a548-4441-bc87-6b6224eb6c3d",
   "metadata": {},
   "outputs": [
    {
     "data": {
      "image/png": "[encoded data removed]",
      "text/plain": [
       "<Figure size 600x400 with 1 Axes>"
      ]
     },
     "metadata": {},
     "output_type": "display_data"
    }
   ],
   "source": [
    "plt.figure(figsize=(6, 4))\n",
    "plt.hist(first_bin.priceUnformatted.values, label=\"Target\", bins=15)\n",
    "plt.hist(\n",
    "    reg_bin_1.predict(first_bin.drop(\"priceUnformatted\", axis=1)),\n",
    "    label=\"Predicted\",\n",
    "    bins=15,\n",
    "    alpha=0.8,\n",
    ")\n",
    "plt.legend()\n",
    "plt.title(\"Sub 20.000 Segment\");"
   ]
  },
  {
   "cell_type": "code",
   "execution_count": 164,
   "id": "d3571dd5-7092-43f4-8c36-6fb6d39b679f",
   "metadata": {},
   "outputs": [
    {
     "data": {
      "image/png": "[encoded data removed]",
      "text/plain": [
       "<Figure size 600x400 with 1 Axes>"
      ]
     },
     "metadata": {},
     "output_type": "display_data"
    }
   ],
   "source": [
    "plt.figure(figsize=(6, 4))\n",
    "plt.hist(sec_bin.priceUnformatted.values, label=\"Target\", bins=40)\n",
    "plt.hist(\n",
    "    reg_bin_2.predict(sec_bin.drop(\"priceUnformatted\", axis=1)),\n",
    "    label=\"Predicted\",\n",
    "    bins=40,\n",
    "    alpha=0.8,\n",
    ")\n",
    "plt.legend()\n",
    "plt.title(\"20.000 - 60.000 Segment\");"
   ]
  },
  {
   "cell_type": "code",
   "execution_count": 165,
   "id": "77f8ec1a-9a4f-420a-8620-fef9e03627af",
   "metadata": {},
   "outputs": [
    {
     "data": {
      "image/png": "[encoded data removed]",
      "text/plain": [
       "<Figure size 600x400 with 1 Axes>"
      ]
     },
     "metadata": {},
     "output_type": "display_data"
    }
   ],
   "source": [
    "plt.figure(figsize=(6, 4))\n",
    "plt.hist(third_bin.priceUnformatted.values, label=\"Target\", bins=15)\n",
    "plt.hist(\n",
    "    reg_bin_3.predict(third_bin.drop(\"priceUnformatted\", axis=1)),\n",
    "    label=\"Predicted\",\n",
    "    bins=15,\n",
    "    alpha=0.8,\n",
    ")\n",
    "plt.legend()\n",
    "plt.title(\"Over 60.000 Segment\");"
   ]
  },
  {
   "cell_type": "markdown",
   "id": "367a3485-d41e-40c2-b4c5-35ba93ce90ed",
   "metadata": {},
   "source": [
    "## Comments\n",
    "\n",
    "We see that when using one regressor for the whole dataset the performance in two segments is terrible, while the performance of the middle one (20k - 60k) is relatively the same. The distributions of target and predicted values do not even overlap in those 2 segments. In contrast when using 3 separate regressors, one for each segment, we see that the distributions now overlap indicating better bevavior."
   ]
  },
  {
   "cell_type": "code",
   "execution_count": 175,
   "id": "25e69b7b-ed47-4a71-b2c7-53b8cd225839",
   "metadata": {},
   "outputs": [],
   "source": [
    "data = pl.scan_csv(\"PricePredictionData/data.csv\").collect()\n",
    "for col in data.columns:\n",
    "    if data[col].dtype == pl.String:\n",
    "        label_enc = pickle.load(\n",
    "            open(\"app/Models/label_encoders/\" + col + \"_transformer.pkl\", \"rb\")\n",
    "        )\n",
    "        data = data.with_columns(\n",
    "            pl.col(col).map_elements(lambda x: label_enc.transform(np.array([x])))\n",
    "        )\n",
    "\n",
    "split_datasets = dict()\n",
    "split_regressors = dict()\n",
    "split_metrics = dict()\n",
    "num_of_splits = 8\n",
    "split_step = 100_000 / num_of_splits\n",
    "\n",
    "for split in range(1, num_of_splits + 1):\n",
    "    upper_b = split * split_step\n",
    "    lower_b = (split - 1) * split_step\n",
    "    if split == num_of_splits:\n",
    "        split_datasets[f\"split_{split}\"] = data.filter(\n",
    "            pl.col(\"priceUnformatted\") >= lower_b\n",
    "        )\n",
    "    else:\n",
    "        split_datasets[f\"split_{split}\"] = data.filter(\n",
    "            (pl.col(\"priceUnformatted\") >= lower_b)\n",
    "            & (pl.col(\"priceUnformatted\") < upper_b)\n",
    "        )\n",
    "\n",
    "for split_key in split_datasets.keys():\n",
    "    # create the classifiers\n",
    "    split_regressors[split_key + \"_regressor\"] = BaggingRegressor(\n",
    "        estimator=DecisionTreeRegressor(\n",
    "            criterion=\"friedman_mse\",\n",
    "            splitter=\"best\",\n",
    "            min_samples_leaf=15,\n",
    "            min_samples_split=30,\n",
    "        ),\n",
    "        n_estimators=10,\n",
    "        max_samples=0.4,\n",
    "        max_features=0.4,\n",
    "        bootstrap=False,\n",
    "    )\n",
    "    # target column\n",
    "    target_col = split_datasets[split_key][\"priceUnformatted\"]\n",
    "    # compute cross validation scores\n",
    "    cv_losses = np.sqrt(\n",
    "        -cross_val_score(\n",
    "            split_regressors[split_key + \"_regressor\"],\n",
    "            split_datasets[split_key].drop(\"priceUnformatted\").to_numpy(),\n",
    "            target_col.to_numpy(),\n",
    "            cv=10,\n",
    "            scoring=\"neg_mean_squared_error\",\n",
    "        )\n",
    "    )\n",
    "    # store the 95% confidence intervals for the error of each classifier\n",
    "    split_metrics[split_key + \"_metrics\"] = st.t.interval(\n",
    "        confidence=0.95,\n",
    "        df=len(cv_losses) - 1,\n",
    "        loc=np.mean(cv_losses),\n",
    "        scale=st.sem(cv_losses),\n",
    "    )\n",
    "    # train each classifier on their segment\n",
    "    split_regressors[split_key + \"_regressor\"].fit(\n",
    "        split_datasets[split_key].drop(\"priceUnformatted\"), target_col\n",
    "    )\n",
    "\n",
    "# create a segment column\n",
    "for i in range(1, num_of_splits + 1):\n",
    "    data = data.with_columns(\n",
    "        pl.when(pl.col(\"priceUnformatted\") < split_step * i)\n",
    "        .then(pl.lit(i))\n",
    "        .otherwise(pl.lit(None))\n",
    "        .alias(\"segment_\" + str(i))\n",
    "    )\n",
    "data = data.with_columns(segment=pl.min_horizontal(cs.starts_with(\"segment_\"))).drop(\n",
    "    cs.starts_with(\"segment_\")\n",
    ")"
   ]
  },
  {
   "cell_type": "markdown",
   "id": "3d903de5-0858-4317-bd7f-0fcd06b2d057",
   "metadata": {},
   "source": [
    "### Save the regressors and metrics on app folder for deployment"
   ]
  },
  {
   "cell_type": "code",
   "execution_count": 57,
   "id": "e2a51deb-064a-45c8-b11d-d182bd52fed2",
   "metadata": {},
   "outputs": [],
   "source": [
    "for key in split_regressors.keys():\n",
    "    pickle.dump(\n",
    "        split_regressors[key],\n",
    "        open(\"app/Models/price_pred_models/\" + key + \".pkl\", \"wb\"),\n",
    "    )\n",
    "\n",
    "for key in split_metrics.keys():\n",
    "    pickle.dump(\n",
    "        split_metrics[key], open(\"app/Models/model_intervals/\" + key + \".pkl\", \"wb\")\n",
    "    )"
   ]
  },
  {
   "cell_type": "markdown",
   "id": "caffa2a1-9cb3-4c50-9b1b-4cedede1604a",
   "metadata": {},
   "source": [
    "## Deployment Test\n",
    "\n",
    "The user might not know all the features of the car we ask to make a prediction, so the car could be showing up in multiple segments and the algorithm won't know what model to use. We must make a function to tackle this problem of the queried model showing up at multiple segments at once. Firstly, we have to make sure that the models work with NA values."
   ]
  },
  {
   "cell_type": "code",
   "execution_count": 58,
   "id": "b229454f-12d4-46ff-b3b2-3b5b7e218634",
   "metadata": {},
   "outputs": [
    {
     "data": {
      "text/html": [
       "<div><style>\n",
       ".dataframe > thead > tr,\n",
       ".dataframe > tbody > tr {\n",
       "  text-align: right;\n",
       "  white-space: pre-wrap;\n",
       "}\n",
       "</style>\n",
       "<small>shape: (1, 17)</small><table border=\"1\" class=\"dataframe\"><thead><tr><th>year</th><th>modelId</th><th>mileageUnformatted</th><th>cylinder_engine</th><th>size_engine</th><th>horsepower_engine</th><th>torque_engine</th><th>highway_mpg</th><th>city_mpg</th><th>make</th><th>condition</th><th>bodyStyle</th><th>configuration_engine</th><th>type_engine</th><th>name_transmission</th><th>drivenWheels</th><th>market_categories</th></tr><tr><td>i64</td><td>f64</td><td>f64</td><td>f64</td><td>f64</td><td>f64</td><td>f64</td><td>f64</td><td>f64</td><td>i64</td><td>i64</td><td>i64</td><td>i64</td><td>i64</td><td>i64</td><td>i64</td><td>i64</td></tr></thead><tbody><tr><td>2017</td><td>2024.0</td><td>55418.0</td><td>4.0</td><td>2.0</td><td>240.0</td><td>270.0</td><td>28.0</td><td>21.0</td><td>22</td><td>2</td><td>7</td><td>3</td><td>4</td><td>5</td><td>2</td><td>31</td></tr></tbody></table></div>"
      ],
      "text/plain": [
       "shape: (1, 17)\n",
       "┌──────┬─────────┬────────────┬────────────┬───┬────────────┬────────────┬────────────┬────────────┐\n",
       "│ year ┆ modelId ┆ mileageUnf ┆ cylinder_e ┆ … ┆ type_engin ┆ name_trans ┆ drivenWhee ┆ market_cat │\n",
       "│ ---  ┆ ---     ┆ ormatted   ┆ ngine      ┆   ┆ e          ┆ mission    ┆ ls         ┆ egories    │\n",
       "│ i64  ┆ f64     ┆ ---        ┆ ---        ┆   ┆ ---        ┆ ---        ┆ ---        ┆ ---        │\n",
       "│      ┆         ┆ f64        ┆ f64        ┆   ┆ i64        ┆ i64        ┆ i64        ┆ i64        │\n",
       "╞══════╪═════════╪════════════╪════════════╪═══╪════════════╪════════════╪════════════╪════════════╡\n",
       "│ 2017 ┆ 2024.0  ┆ 55418.0    ┆ 4.0        ┆ … ┆ 4          ┆ 5          ┆ 2          ┆ 31         │\n",
       "└──────┴─────────┴────────────┴────────────┴───┴────────────┴────────────┴────────────┴────────────┘"
      ]
     },
     "execution_count": 58,
     "metadata": {},
     "output_type": "execute_result"
    }
   ],
   "source": [
    "data.drop([\"segment\", \"priceUnformatted\"])[9]"
   ]
  },
  {
   "cell_type": "code",
   "execution_count": 59,
   "id": "a8019280-734b-4575-9174-f6e1373c3d72",
   "metadata": {},
   "outputs": [
    {
     "data": {
      "text/plain": [
       "array([10709.29140579])"
      ]
     },
     "execution_count": 59,
     "metadata": {},
     "output_type": "execute_result"
    }
   ],
   "source": [
    "split_regressors[\"split_1_regressor\"].predict(\n",
    "    data.drop([\"segment\", \"priceUnformatted\"])[9]\n",
    ")"
   ]
  },
  {
   "cell_type": "markdown",
   "id": "05d94839-169c-4af3-91ac-9fc8cb461fc3",
   "metadata": {},
   "source": [
    "It works, as it was supposed to. That's why we selected that algorithm in the first place.\n",
    "\n",
    "Now, suppose that the user inserts only a few fields like Make, Model and Year."
   ]
  },
  {
   "cell_type": "code",
   "execution_count": 60,
   "id": "193e98b9-0196-4875-a859-ce9ada6c3e82",
   "metadata": {},
   "outputs": [
    {
     "data": {
      "text/html": [
       "<div><style>\n",
       ".dataframe > thead > tr,\n",
       ".dataframe > tbody > tr {\n",
       "  text-align: right;\n",
       "  white-space: pre-wrap;\n",
       "}\n",
       "</style>\n",
       "<small>shape: (2, 2)</small><table border=\"1\" class=\"dataframe\"><thead><tr><th>segment</th><th>count</th></tr><tr><td>i32</td><td>u32</td></tr></thead><tbody><tr><td>2</td><td>21</td></tr><tr><td>4</td><td>3</td></tr></tbody></table></div>"
      ],
      "text/plain": [
       "shape: (2, 2)\n",
       "┌─────────┬───────┐\n",
       "│ segment ┆ count │\n",
       "│ ---     ┆ ---   │\n",
       "│ i32     ┆ u32   │\n",
       "╞═════════╪═══════╡\n",
       "│ 2       ┆ 21    │\n",
       "│ 4       ┆ 3     │\n",
       "└─────────┴───────┘"
      ]
     },
     "execution_count": 60,
     "metadata": {},
     "output_type": "execute_result"
    }
   ],
   "source": [
    "dummy = data.filter(pl.col(\"modelId\") == 862).filter((pl.col(\"year\") == 2021))\n",
    "dummy[\"segment\"].value_counts().sort(\"segment\")"
   ]
  },
  {
   "cell_type": "code",
   "execution_count": 61,
   "id": "6945c0e7-fa6b-44e8-9856-9fafb323ba91",
   "metadata": {},
   "outputs": [],
   "source": [
    "def get_pred(\n",
    "    data,\n",
    "    make,\n",
    "    modelId,\n",
    "    year,\n",
    "    mileageUnformatted=None,\n",
    "    cylinder_engine=None,\n",
    "    size_engine=None,\n",
    "    horsepower_engine=None,\n",
    "    torque_engine=None,\n",
    "    highway_mpg=None,\n",
    "    city_mpg=None,\n",
    "    condition=None,\n",
    "    bodyStyle=None,\n",
    "    configuration_engine=None,\n",
    "    type_engine=None,\n",
    "    name_transmission=None,\n",
    "    drivenWheels=None,\n",
    "    market_categories=None,\n",
    "):\n",
    "    # fields the user is going to pass to the app to get a suggestion\n",
    "    filter_dict = {\n",
    "        \"year\": year,\n",
    "        \"modelId\": modelId,\n",
    "        \"mileageUnformatted\": mileageUnformatted,\n",
    "        \"cylinder_engine\": cylinder_engine,\n",
    "        \"size_engine\": size_engine,\n",
    "        \"horsepower_engine\": horsepower_engine,\n",
    "        \"torque_engine\": torque_engine,\n",
    "        \"highway_mpg\": highway_mpg,\n",
    "        \"city_mpg\": city_mpg,\n",
    "        \"make\": make,\n",
    "        \"condition\": condition,\n",
    "        \"bodyStyle\": bodyStyle,\n",
    "        \"configuration_engine\": configuration_engine,\n",
    "        \"type_engine\": type_engine,\n",
    "        \"name_transmission\": name_transmission,\n",
    "        \"drivenWheels\": drivenWheels,\n",
    "        \"market_categories\": market_categories,\n",
    "    }\n",
    "\n",
    "    data = data\n",
    "    # turn fields to an array in order to make the prediction\n",
    "    query = pl.from_dict(filter_dict)\n",
    "    # filter the dataset in order to get the correct vehicle\n",
    "    for key in filter_dict.keys():\n",
    "        if filter_dict[key] is not None:\n",
    "            data = data.filter(pl.col(key) == filter_dict[key])\n",
    "    # find the segments the vehicle belongs to\n",
    "    data = (\n",
    "        data[\"segment\"]\n",
    "        .value_counts()\n",
    "        .sort(\"segment\")\n",
    "        .with_columns(freq=pl.col(\"count\") / len(data))\n",
    "        .drop(\"count\")\n",
    "    )\n",
    "\n",
    "    queried_regressors = []\n",
    "    queried_metrics = []\n",
    "    # get the correct regressors and confidence intervals\n",
    "    for i in data[\"segment\"]:\n",
    "        queried_regressors.append(split_regressors[\"split_\" + str(i) + \"_regressor\"])\n",
    "        queried_metrics.append(split_metrics[\"split_\" + str(i) + \"_metrics\"])\n",
    "\n",
    "    # make the prediction\n",
    "    prediction = 0\n",
    "    upper_bound = 0\n",
    "    lower_bound = 0\n",
    "    for j in range(len(data)):\n",
    "        prediction += data[\"freq\"][j] * queried_regressors[j].predict(query).item()\n",
    "        upper_bound += data[\"freq\"][j] * queried_metrics[j][1]\n",
    "        lower_bound += data[\"freq\"][j] * queried_metrics[j][0]\n",
    "\n",
    "    return prediction, upper_bound, lower_bound"
   ]
  },
  {
   "cell_type": "code",
   "execution_count": 89,
   "id": "dac37f2c-6150-4022-9ff4-ade47aecef52",
   "metadata": {},
   "outputs": [
    {
     "data": {
      "text/plain": [
       "(0, 0, 0)"
      ]
     },
     "execution_count": 89,
     "metadata": {},
     "output_type": "execute_result"
    }
   ],
   "source": [
    "get_pred(data, None, 862, 2021, 50000)"
   ]
  },
  {
   "cell_type": "code",
   "execution_count": null,
   "id": "a5ad7018-eb10-4f3d-b1cc-3b3fb678047a",
   "metadata": {},
   "outputs": [],
   "source": []
  }
 ],
 "metadata": {
  "kernelspec": {
   "display_name": "Python 3 (ipykernel)",
   "language": "python",
   "name": "python3"
  },
  "language_info": {
   "codemirror_mode": {
    "name": "ipython",
    "version": 3
   },
   "file_extension": ".py",
   "mimetype": "text/x-python",
   "name": "python",
   "nbconvert_exporter": "python",
   "pygments_lexer": "ipython3",
   "version": "3.10.13"
  }
 },
 "nbformat": 4,
 "nbformat_minor": 5
}
