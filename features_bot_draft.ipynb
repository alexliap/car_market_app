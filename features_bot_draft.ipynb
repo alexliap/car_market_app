{
 "cells": [
  {
   "cell_type": "code",
   "execution_count": 1,
   "id": "b79c202e-061b-49cf-8512-8b6da46f2b23",
   "metadata": {},
   "outputs": [],
   "source": [
    "import requests\n",
    "import numpy as np\n",
    "import os\n",
    "import pandas as pd\n",
    "from requests.adapters import HTTPAdapter\n",
    "from urllib3.util.retry import Retry"
   ]
  },
  {
   "cell_type": "code",
   "execution_count": 2,
   "id": "23a442b8-2df5-47c8-b187-fe4eb39f910d",
   "metadata": {},
   "outputs": [],
   "source": [
    "api_key = \"ZrQEPSkKYWxleGFuZHJvc2xpYXBhdGVzQGdtYWlsLmNvbQ==\""
   ]
  },
  {
   "cell_type": "code",
   "execution_count": 3,
   "id": "78ea582c-2e32-486c-9769-2f3613305258",
   "metadata": {},
   "outputs": [],
   "source": [
    "data = pd.read_csv(\"/Users/alexanderliapatis/Desktop/Projects/draft_project/data.csv\")"
   ]
  },
  {
   "cell_type": "code",
   "execution_count": 4,
   "id": "8680adf9-32ce-433d-aed7-8b37675624ee",
   "metadata": {
    "scrolled": true
   },
   "outputs": [],
   "source": [
    "vin_list = np.unique(data[\"vin\"].values).tolist()"
   ]
  },
  {
   "cell_type": "code",
   "execution_count": 6,
   "id": "bc83b892-557f-4f51-842b-1410d5eae8b9",
   "metadata": {},
   "outputs": [
    {
     "data": {
      "text/plain": [
       "(5608, 62)"
      ]
     },
     "execution_count": 6,
     "metadata": {},
     "output_type": "execute_result"
    }
   ],
   "source": [
    "if os.path.isfile(\n",
    "    \"/Users/alexanderliapatis/Desktop/Projects/draft_project/features_data.csv\"\n",
    "):\n",
    "    ft_data = pd.read_csv(\n",
    "        \"/Users/alexanderliapatis/Desktop/Projects/draft_project/features_data.csv\"\n",
    "    )\n",
    "else:\n",
    "    ft_data = pd.DataFrame(columns=[\"vin\"])\n",
    "\n",
    "ft_data.shape"
   ]
  },
  {
   "cell_type": "code",
   "execution_count": 6,
   "id": "c734bc39-4c19-4d60-ab05-a24aeff2d233",
   "metadata": {},
   "outputs": [],
   "source": [
    "for vin in vin_list[:-10]:\n",
    "    if vin not in ft_data[\"vin\"].values:\n",
    "        url = f\"https://auto.dev/api/vin/{vin}?apikey={api_key}\"\n",
    "\n",
    "        session = requests.Session()\n",
    "        retry = Retry(connect=3, backoff_factor=1)\n",
    "        adapter = HTTPAdapter(max_retries=retry)\n",
    "        session.mount(\"http://\", adapter)\n",
    "        session.mount(\"https://\", adapter)\n",
    "\n",
    "        response = session.get(url)\n",
    "        data = pd.DataFrame()\n",
    "        data[\"vin\"] = [vin]\n",
    "        for item in response.json().keys():\n",
    "            if item not in [\"options\", \"years\", \"colors\"]:\n",
    "                if isinstance(response.json()[item], dict):\n",
    "                    data = pd.concat(\n",
    "                        [\n",
    "                            data,\n",
    "                            pd.json_normalize(response.json()[item]).add_suffix(\n",
    "                                \"_\" + item\n",
    "                            ),\n",
    "                        ],\n",
    "                        axis=1,\n",
    "                    )\n",
    "                else:\n",
    "                    data[item] = response.json()[item]\n",
    "\n",
    "        ft_data = pd.concat([ft_data, data], axis=0)"
   ]
  },
  {
   "cell_type": "code",
   "execution_count": null,
   "id": "947205ef-f8b7-493e-ad99-88fd8a11e422",
   "metadata": {},
   "outputs": [],
   "source": []
  }
 ],
 "metadata": {
  "kernelspec": {
   "display_name": "Python 3 (ipykernel)",
   "language": "python",
   "name": "python3"
  },
  "language_info": {
   "codemirror_mode": {
    "name": "ipython",
    "version": 3
   },
   "file_extension": ".py",
   "mimetype": "text/x-python",
   "name": "python",
   "nbconvert_exporter": "python",
   "pygments_lexer": "ipython3",
   "version": "3.10.13"
  }
 },
 "nbformat": 4,
 "nbformat_minor": 5
}
