{
 "cells": [
  {
   "cell_type": "code",
   "execution_count": 1,
   "id": "9c2d6f8a-99dc-4c17-8a26-9e87a3ac7800",
   "metadata": {},
   "outputs": [],
   "source": [
    "import pandas as pd\n",
    "import numpy as np"
   ]
  },
  {
   "cell_type": "code",
   "execution_count": 2,
   "id": "c0f1557b-3d36-4e26-937e-69d7d57cbe3e",
   "metadata": {},
   "outputs": [],
   "source": [
    "ft_data=pd.read_csv('RawData/features_data.csv')"
   ]
  },
  {
   "cell_type": "code",
   "execution_count": 3,
   "id": "ae90d5e9-5c5c-4c52-9f48-098a1c098f15",
   "metadata": {},
   "outputs": [],
   "source": [
    "# columns that cannot be used for price prediction\n",
    "columns_to_drop = ['name_make', 'name_model', 'id_model', 'name_engine', 'equipmentType_engine', 'code_engine',\n",
    "                   'availability_engine', 'fuelType_engine', 'totalValves_engine', 'rpm.horsepower_engine', 'rpm.torque_engine',\n",
    "                   'valve.timing_engine', 'valve.gear_engine', 'manufacturerEngineCode_engine', 'equipmentType_transmission',\n",
    "                   'availability_transmission', 'numOfDoors', 'manufacturerCode', 'baseMsrp_price', 'baseInvoice_price', \n",
    "                   'deliveryCharges_price','usedTmvRetail_price', 'usedPrivateParty_price', 'usedTradeIn_price', 'estimateTmv_price', \n",
    "                   'tmvRecommendedRating_price', 'primaryBodyType_categories', 'vehicleSize_categories', 'crossover_categories',\n",
    "                   'manufacturerCabType_categories', 'squishVin', 'matchingType', 'displacement_engine', 'status', 'moreInfoUrl']"
   ]
  },
  {
   "cell_type": "code",
   "execution_count": 4,
   "id": "7a59614d-f97c-428a-a0a5-fbfcbbd73520",
   "metadata": {},
   "outputs": [],
   "source": [
    "ft_data.drop(columns_to_drop, inplace=True, axis=1)"
   ]
  },
  {
   "cell_type": "code",
   "execution_count": 5,
   "id": "e7777e6f-5645-436c-afe8-0cc254af7eb5",
   "metadata": {},
   "outputs": [],
   "source": [
    "ft_data.to_csv('CleanData/detailed.csv', index=False)"
   ]
  },
  {
   "cell_type": "code",
   "execution_count": 6,
   "id": "478b53d5-a192-44cb-94ba-e28e746d99cc",
   "metadata": {},
   "outputs": [
    {
     "data": {
      "text/plain": [
       "Index(['vin', 'id_make', 'niceName_make', 'niceName_model', 'id_engine',\n",
       "       'compressionRatio_engine', 'cylinder_engine', 'size_engine',\n",
       "       'configuration_engine', 'horsepower_engine', 'torque_engine',\n",
       "       'type_engine', 'compressorType_engine', 'id_transmission',\n",
       "       'name_transmission', 'transmissionType_transmission',\n",
       "       'numberOfSpeeds_transmission', 'drivenWheels', 'market_categories',\n",
       "       'epaClass_categories', 'vehicleType_categories',\n",
       "       'vehicleStyle_categories', 'highway_mpg', 'city_mpg',\n",
       "       'automaticType_transmission', 'errorType', 'message'],\n",
       "      dtype='object')"
      ]
     },
     "execution_count": 6,
     "metadata": {},
     "output_type": "execute_result"
    }
   ],
   "source": [
    "ft_data.columns"
   ]
  },
  {
   "cell_type": "code",
   "execution_count": 7,
   "id": "48dabe85-859d-41ec-b6a7-9aca73fe2b1f",
   "metadata": {},
   "outputs": [
    {
     "data": {
      "text/plain": [
       "array([nan, 'RESOURCE_NOT_FOUND', 'Not Found', 'INCORRECT_PARAMS'],\n",
       "      dtype=object)"
      ]
     },
     "execution_count": 7,
     "metadata": {},
     "output_type": "execute_result"
    }
   ],
   "source": [
    "ft_data['errorType'].unique()"
   ]
  },
  {
   "cell_type": "code",
   "execution_count": null,
   "id": "085673e7-0fa6-4678-a88b-e2cae1f7f53d",
   "metadata": {},
   "outputs": [],
   "source": []
  }
 ],
 "metadata": {
  "kernelspec": {
   "display_name": "Python 3 (ipykernel)",
   "language": "python",
   "name": "python3"
  },
  "language_info": {
   "codemirror_mode": {
    "name": "ipython",
    "version": 3
   },
   "file_extension": ".py",
   "mimetype": "text/x-python",
   "name": "python",
   "nbconvert_exporter": "python",
   "pygments_lexer": "ipython3",
   "version": "3.10.13"
  }
 },
 "nbformat": 4,
 "nbformat_minor": 5
}
