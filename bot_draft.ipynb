{
 "cells": [
  {
   "cell_type": "code",
   "execution_count": 1,
   "id": "a2bb53d2-c746-4571-8ae5-d54a21a19626",
   "metadata": {},
   "outputs": [],
   "source": [
    "import requests\n",
    "import os\n",
    "import pandas as pd\n",
    "from tqdm import tqdm\n",
    "from requests.adapters import HTTPAdapter\n",
    "from urllib3.util.retry import Retry"
   ]
  },
  {
   "cell_type": "code",
   "execution_count": 2,
   "id": "e2b15eee-9a54-4c45-9983-c8563f5d9371",
   "metadata": {},
   "outputs": [],
   "source": [
    "api_key = \"ZrQEPSkKYWxleDgyMDA5QHdpbmRvd3NsaXZlLmNvbQ==\"\n",
    "url = f\"https://auto.dev/api/listings?apikey={api_key}&page=\"\n",
    "amount_of_pg = 250"
   ]
  },
  {
   "cell_type": "code",
   "execution_count": 3,
   "id": "ac8b2147-dd15-4161-a4b9-a3228ad28668",
   "metadata": {},
   "outputs": [],
   "source": [
    "if os.path.isfile(\n",
    "    \"/Users/alexanderliapatis/Desktop/Projects/draft_project/RawData/data.csv\"\n",
    "):\n",
    "    data = pd.read_csv(\n",
    "        \"/Users/alexanderliapatis/Desktop/Projects/draft_project/RawData/data.csv\"\n",
    "    )\n",
    "else:\n",
    "    data = pd.DataFrame()"
   ]
  },
  {
   "cell_type": "code",
   "execution_count": 4,
   "id": "ad12da35-934a-4e31-b361-eb368d1e681d",
   "metadata": {},
   "outputs": [
    {
     "name": "stderr",
     "output_type": "stream",
     "text": [
      "100%|████████████████████| 249/249 [17:23<00:00,  4.19s/it]                                                                                          \n"
     ]
    }
   ],
   "source": [
    "for i in tqdm(range(1, amount_of_pg), bar_format=\"{l_bar}{bar:20}{r_bar}{bar:-10b}\"):\n",
    "    try:\n",
    "        session = requests.Session()\n",
    "        retry = Retry(connect=4, backoff_factor=1)\n",
    "        adapter = HTTPAdapter(max_retries=retry)\n",
    "        session.mount(\"http://\", adapter)\n",
    "        session.mount(\"https://\", adapter)\n",
    "\n",
    "        response = session.get(url + str(i))\n",
    "        response_data = pd.json_normalize(response.json()[\"records\"])\n",
    "        response_data = response_data[\n",
    "            [\n",
    "                \"id\",\n",
    "                \"vin\",\n",
    "                \"displayColor\",\n",
    "                \"year\",\n",
    "                \"make\",\n",
    "                \"model\",\n",
    "                \"price\",\n",
    "                \"mileage\",\n",
    "                \"city\",\n",
    "                \"lat\",\n",
    "                \"lon\",\n",
    "                \"condition\",\n",
    "                \"modelId\",\n",
    "                \"active\",\n",
    "                \"state\",\n",
    "                \"trim\",\n",
    "                \"bodyType\",\n",
    "                \"bodyStyle\",\n",
    "                \"regionName\",\n",
    "                \"experience\",\n",
    "                \"mileageUnformatted\",\n",
    "                \"mileageHumanized\",\n",
    "                \"priceMobile\",\n",
    "                \"priceUnformatted\",\n",
    "                \"recentPriceDrop\",\n",
    "                \"showNewMileage\",\n",
    "                \"eligibleForFinancing\",\n",
    "                \"financingExperience\",\n",
    "                \"isHot\",\n",
    "                \"monthlyPayment\",\n",
    "                \"newPriceAsMsrp\",\n",
    "                \"createdAt\",\n",
    "                \"updatedAt\",\n",
    "            ]\n",
    "        ]\n",
    "        data = pd.concat([data, response_data], axis=0)\n",
    "        print(data.shape)\n",
    "        data = data.drop_duplicates()\n",
    "        print(data.shape)\n",
    "        data.to_csv(\n",
    "            \"/Users/alexanderliapatis/Desktop/Projects/draft_project/data.csv\",\n",
    "            index=False,\n",
    "        )\n",
    "    except:\n",
    "        pass"
   ]
  },
  {
   "cell_type": "code",
   "execution_count": 3,
   "id": "55897976-7f1a-4a82-96a7-57afe8fba797",
   "metadata": {},
   "outputs": [],
   "source": [
    "session = requests.Session()\n",
    "retry = Retry(connect=4, backoff_factor=1)\n",
    "adapter = HTTPAdapter(max_retries=retry)\n",
    "session.mount(\"http://\", adapter)\n",
    "session.mount(\"https://\", adapter)\n",
    "\n",
    "\n",
    "response = session.get(url + str(280))"
   ]
  },
  {
   "cell_type": "code",
   "execution_count": null,
   "id": "8241d962-6ebe-4972-a83e-7d9ea3e8f712",
   "metadata": {},
   "outputs": [],
   "source": []
  }
 ],
 "metadata": {
  "kernelspec": {
   "display_name": "Python 3 (ipykernel)",
   "language": "python",
   "name": "python3"
  },
  "language_info": {
   "codemirror_mode": {
    "name": "ipython",
    "version": 3
   },
   "file_extension": ".py",
   "mimetype": "text/x-python",
   "name": "python",
   "nbconvert_exporter": "python",
   "pygments_lexer": "ipython3",
   "version": "3.10.13"
  }
 },
 "nbformat": 4,
 "nbformat_minor": 5
}
