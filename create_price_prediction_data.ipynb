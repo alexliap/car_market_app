{
 "cells": [
  {
   "cell_type": "code",
   "execution_count": 1,
   "id": "a74ac694-d991-4214-8176-4ec65f090e23",
   "metadata": {},
   "outputs": [],
   "source": [
    "import pandas as pd\n",
    "import numpy as np"
   ]
  },
  {
   "cell_type": "code",
   "execution_count": 2,
   "id": "9934df34-32bb-407f-ae5f-330483a5fe7e",
   "metadata": {},
   "outputs": [],
   "source": [
    "basic=pd.read_csv('CleanData/basic.csv')\n",
    "detailed=pd.read_csv('CleanData/detailed.csv')"
   ]
  },
  {
   "cell_type": "code",
   "execution_count": 3,
   "id": "bc4ee8cc-8e69-46a0-8c08-8d0659bc9a24",
   "metadata": {},
   "outputs": [],
   "source": [
    "mrg_data=basic.merge(detailed, on='vin')"
   ]
  },
  {
   "cell_type": "code",
   "execution_count": 4,
   "id": "6ed645b6-a3ef-48c8-b77c-e9e601838b89",
   "metadata": {},
   "outputs": [
    {
     "data": {
      "text/plain": [
       "Index(['vin', 'year', 'make', 'model', 'condition', 'modelId', 'bodyStyle',\n",
       "       'mileageUnformatted', 'priceUnformatted', 'id_make', 'niceName_make',\n",
       "       'niceName_model', 'id_engine', 'compressionRatio_engine',\n",
       "       'cylinder_engine', 'size_engine', 'configuration_engine',\n",
       "       'horsepower_engine', 'torque_engine', 'type_engine',\n",
       "       'compressorType_engine', 'id_transmission', 'name_transmission',\n",
       "       'transmissionType_transmission', 'numberOfSpeeds_transmission',\n",
       "       'drivenWheels', 'market_categories', 'epaClass_categories',\n",
       "       'vehicleType_categories', 'vehicleStyle_categories', 'highway_mpg',\n",
       "       'city_mpg', 'automaticType_transmission', 'errorType', 'message'],\n",
       "      dtype='object')"
      ]
     },
     "execution_count": 4,
     "metadata": {},
     "output_type": "execute_result"
    }
   ],
   "source": [
    "mrg_data.columns"
   ]
  },
  {
   "cell_type": "code",
   "execution_count": 5,
   "id": "5e5e4d97-0564-46d0-b09f-ae8e1216fd36",
   "metadata": {},
   "outputs": [],
   "source": [
    "# columns not to be used for price prediction \n",
    "columns_to_drop=['vin', 'model', 'id_make', 'niceName_make', 'niceName_model', 'id_engine', 'compressionRatio_engine', 'id_transmission',\n",
    "                 'transmissionType_transmission', 'numberOfSpeeds_transmission', 'epaClass_categories', 'vehicleType_categories',\n",
    "                 'vehicleStyle_categories', 'automaticType_transmission', 'errorType', 'message']"
   ]
  },
  {
   "cell_type": "code",
   "execution_count": 6,
   "id": "0740f3cf-de84-41ce-b721-1f229ac4ad44",
   "metadata": {},
   "outputs": [],
   "source": [
    "mrg_data.drop(columns_to_drop, inplace=True, axis=1)"
   ]
  },
  {
   "cell_type": "code",
   "execution_count": 7,
   "id": "af4ad828-31d6-49c5-b3a0-475f96273d25",
   "metadata": {},
   "outputs": [],
   "source": [
    "# # drop rows where modelId is null\n",
    "# mrg_data=mrg_data[mrg_data['modelId'].notnull()]"
   ]
  },
  {
   "cell_type": "code",
   "execution_count": 8,
   "id": "92288c07-add9-46f3-b3c5-1bd301b62e7c",
   "metadata": {},
   "outputs": [
    {
     "name": "stdout",
     "output_type": "stream",
     "text": [
      "<class 'pandas.core.frame.DataFrame'>\n",
      "RangeIndex: 10191 entries, 0 to 10190\n",
      "Data columns (total 19 columns):\n",
      " #   Column                 Non-Null Count  Dtype  \n",
      "---  ------                 --------------  -----  \n",
      " 0   year                   10191 non-null  int64  \n",
      " 1   make                   10191 non-null  object \n",
      " 2   condition              10191 non-null  object \n",
      " 3   modelId                10177 non-null  float64\n",
      " 4   bodyStyle              10182 non-null  object \n",
      " 5   mileageUnformatted     9006 non-null   float64\n",
      " 6   priceUnformatted       10191 non-null  int64  \n",
      " 7   cylinder_engine        9358 non-null   float64\n",
      " 8   size_engine            8825 non-null   float64\n",
      " 9   configuration_engine   9314 non-null   object \n",
      " 10  horsepower_engine      8688 non-null   float64\n",
      " 11  torque_engine          8360 non-null   float64\n",
      " 12  type_engine            9364 non-null   object \n",
      " 13  compressorType_engine  3667 non-null   object \n",
      " 14  name_transmission      9336 non-null   object \n",
      " 15  drivenWheels           9666 non-null   object \n",
      " 16  market_categories      6708 non-null   object \n",
      " 17  highway_mpg            8098 non-null   float64\n",
      " 18  city_mpg               8177 non-null   float64\n",
      "dtypes: float64(8), int64(2), object(9)\n",
      "memory usage: 1.5+ MB\n"
     ]
    }
   ],
   "source": [
    "mrg_data.info()"
   ]
  },
  {
   "cell_type": "code",
   "execution_count": 9,
   "id": "d455bf15-9b63-4c52-9893-d82437789326",
   "metadata": {},
   "outputs": [],
   "source": [
    "# drop compressorType_engine because more than half of the values are missing\n",
    "mrg_data.drop('compressorType_engine', axis=1, inplace=True)"
   ]
  },
  {
   "cell_type": "code",
   "execution_count": 10,
   "id": "a2faebf4-e894-400c-a760-642d28a2b1a9",
   "metadata": {},
   "outputs": [],
   "source": [
    "from sklearn.preprocessing import LabelEncoder\n",
    "\n",
    "str_cols=mrg_data.select_dtypes(include='object')\n",
    "str_cols=str_cols.apply(LabelEncoder().fit_transform)\n",
    "\n",
    "num_cols=mrg_data.select_dtypes(exclude='object')\n",
    "# num_cols['modelId'] = num_cols['modelId'].values.astype(int) # makes null values equal to 0\n",
    "\n",
    "result=pd.concat([num_cols, str_cols], axis=1)"
   ]
  },
  {
   "cell_type": "code",
   "execution_count": 11,
   "id": "b1eec048-42af-45b1-9f7c-aa0db6afc52f",
   "metadata": {},
   "outputs": [
    {
     "data": {
      "text/html": [
       "<div>\n",
       "<style scoped>\n",
       "    .dataframe tbody tr th:only-of-type {\n",
       "        vertical-align: middle;\n",
       "    }\n",
       "\n",
       "    .dataframe tbody tr th {\n",
       "        vertical-align: top;\n",
       "    }\n",
       "\n",
       "    .dataframe thead th {\n",
       "        text-align: right;\n",
       "    }\n",
       "</style>\n",
       "<table border=\"1\" class=\"dataframe\">\n",
       "  <thead>\n",
       "    <tr style=\"text-align: right;\">\n",
       "      <th></th>\n",
       "      <th>year</th>\n",
       "      <th>modelId</th>\n",
       "      <th>mileageUnformatted</th>\n",
       "      <th>priceUnformatted</th>\n",
       "      <th>cylinder_engine</th>\n",
       "      <th>size_engine</th>\n",
       "      <th>horsepower_engine</th>\n",
       "      <th>torque_engine</th>\n",
       "      <th>highway_mpg</th>\n",
       "      <th>city_mpg</th>\n",
       "      <th>make</th>\n",
       "      <th>condition</th>\n",
       "      <th>bodyStyle</th>\n",
       "      <th>configuration_engine</th>\n",
       "      <th>type_engine</th>\n",
       "      <th>name_transmission</th>\n",
       "      <th>drivenWheels</th>\n",
       "      <th>market_categories</th>\n",
       "    </tr>\n",
       "  </thead>\n",
       "  <tbody>\n",
       "    <tr>\n",
       "      <th>0</th>\n",
       "      <td>2021</td>\n",
       "      <td>2356.0</td>\n",
       "      <td>51482.0</td>\n",
       "      <td>27499</td>\n",
       "      <td>4.0</td>\n",
       "      <td>2.0</td>\n",
       "      <td>221.0</td>\n",
       "      <td>258.0</td>\n",
       "      <td>31.0</td>\n",
       "      <td>23.0</td>\n",
       "      <td>25</td>\n",
       "      <td>2</td>\n",
       "      <td>7</td>\n",
       "      <td>2</td>\n",
       "      <td>4</td>\n",
       "      <td>9</td>\n",
       "      <td>2</td>\n",
       "      <td>30</td>\n",
       "    </tr>\n",
       "    <tr>\n",
       "      <th>1</th>\n",
       "      <td>2015</td>\n",
       "      <td>1511.0</td>\n",
       "      <td>126966.0</td>\n",
       "      <td>6489</td>\n",
       "      <td>4.0</td>\n",
       "      <td>2.5</td>\n",
       "      <td>182.0</td>\n",
       "      <td>180.0</td>\n",
       "      <td>38.0</td>\n",
       "      <td>27.0</td>\n",
       "      <td>27</td>\n",
       "      <td>2</td>\n",
       "      <td>6</td>\n",
       "      <td>2</td>\n",
       "      <td>4</td>\n",
       "      <td>11</td>\n",
       "      <td>2</td>\n",
       "      <td>57</td>\n",
       "    </tr>\n",
       "    <tr>\n",
       "      <th>2</th>\n",
       "      <td>2018</td>\n",
       "      <td>1881.0</td>\n",
       "      <td>54708.0</td>\n",
       "      <td>33149</td>\n",
       "      <td>6.0</td>\n",
       "      <td>3.0</td>\n",
       "      <td>340.0</td>\n",
       "      <td>339.0</td>\n",
       "      <td>23.0</td>\n",
       "      <td>17.0</td>\n",
       "      <td>30</td>\n",
       "      <td>2</td>\n",
       "      <td>7</td>\n",
       "      <td>0</td>\n",
       "      <td>4</td>\n",
       "      <td>7</td>\n",
       "      <td>0</td>\n",
       "      <td>31</td>\n",
       "    </tr>\n",
       "    <tr>\n",
       "      <th>3</th>\n",
       "      <td>2015</td>\n",
       "      <td>2060.0</td>\n",
       "      <td>73390.0</td>\n",
       "      <td>16499</td>\n",
       "      <td>6.0</td>\n",
       "      <td>3.5</td>\n",
       "      <td>290.0</td>\n",
       "      <td>267.0</td>\n",
       "      <td>31.0</td>\n",
       "      <td>21.0</td>\n",
       "      <td>0</td>\n",
       "      <td>2</td>\n",
       "      <td>6</td>\n",
       "      <td>0</td>\n",
       "      <td>4</td>\n",
       "      <td>10</td>\n",
       "      <td>0</td>\n",
       "      <td>29</td>\n",
       "    </tr>\n",
       "    <tr>\n",
       "      <th>4</th>\n",
       "      <td>2015</td>\n",
       "      <td>1323.0</td>\n",
       "      <td>81653.0</td>\n",
       "      <td>14499</td>\n",
       "      <td>4.0</td>\n",
       "      <td>2.0</td>\n",
       "      <td>240.0</td>\n",
       "      <td>260.0</td>\n",
       "      <td>28.0</td>\n",
       "      <td>21.0</td>\n",
       "      <td>3</td>\n",
       "      <td>2</td>\n",
       "      <td>7</td>\n",
       "      <td>2</td>\n",
       "      <td>4</td>\n",
       "      <td>9</td>\n",
       "      <td>0</td>\n",
       "      <td>30</td>\n",
       "    </tr>\n",
       "  </tbody>\n",
       "</table>\n",
       "</div>"
      ],
      "text/plain": [
       "   year  modelId  mileageUnformatted  priceUnformatted  cylinder_engine  \\\n",
       "0  2021   2356.0             51482.0             27499              4.0   \n",
       "1  2015   1511.0            126966.0              6489              4.0   \n",
       "2  2018   1881.0             54708.0             33149              6.0   \n",
       "3  2015   2060.0             73390.0             16499              6.0   \n",
       "4  2015   1323.0             81653.0             14499              4.0   \n",
       "\n",
       "   size_engine  horsepower_engine  torque_engine  highway_mpg  city_mpg  make  \\\n",
       "0          2.0              221.0          258.0         31.0      23.0    25   \n",
       "1          2.5              182.0          180.0         38.0      27.0    27   \n",
       "2          3.0              340.0          339.0         23.0      17.0    30   \n",
       "3          3.5              290.0          267.0         31.0      21.0     0   \n",
       "4          2.0              240.0          260.0         28.0      21.0     3   \n",
       "\n",
       "   condition  bodyStyle  configuration_engine  type_engine  name_transmission  \\\n",
       "0          2          7                     2            4                  9   \n",
       "1          2          6                     2            4                 11   \n",
       "2          2          7                     0            4                  7   \n",
       "3          2          6                     0            4                 10   \n",
       "4          2          7                     2            4                  9   \n",
       "\n",
       "   drivenWheels  market_categories  \n",
       "0             2                 30  \n",
       "1             2                 57  \n",
       "2             0                 31  \n",
       "3             0                 29  \n",
       "4             0                 30  "
      ]
     },
     "execution_count": 11,
     "metadata": {},
     "output_type": "execute_result"
    }
   ],
   "source": [
    "result.head()"
   ]
  },
  {
   "cell_type": "code",
   "execution_count": 12,
   "id": "812d345b-d3f2-48de-8966-0cdc6477c41e",
   "metadata": {},
   "outputs": [],
   "source": [
    "result.to_csv('PricePredictionData/data.csv', index=False)"
   ]
  },
  {
   "cell_type": "code",
   "execution_count": null,
   "id": "66640ca3-447d-402f-9881-58c7c142cf9c",
   "metadata": {},
   "outputs": [],
   "source": []
  }
 ],
 "metadata": {
  "kernelspec": {
   "display_name": "Python 3 (ipykernel)",
   "language": "python",
   "name": "python3"
  },
  "language_info": {
   "codemirror_mode": {
    "name": "ipython",
    "version": 3
   },
   "file_extension": ".py",
   "mimetype": "text/x-python",
   "name": "python",
   "nbconvert_exporter": "python",
   "pygments_lexer": "ipython3",
   "version": "3.10.13"
  }
 },
 "nbformat": 4,
 "nbformat_minor": 5
}
